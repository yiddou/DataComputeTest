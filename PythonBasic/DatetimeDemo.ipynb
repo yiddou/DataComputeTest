{
 "cells": [
  {
   "cell_type": "code",
   "execution_count": 6,
   "metadata": {},
   "outputs": [
    {
     "name": "stdout",
     "output_type": "stream",
     "text": [
      "week--> 1\n",
      "week0--> 202001\n",
      "week1--> 201952\n"
     ]
    }
   ],
   "source": [
    "import datetime\n",
    "from datetime import timedelta\n",
    "\n",
    "now = datetime.datetime.now()\n",
    "w = now.isocalendar()\n",
    "wd = now.weekday()\n",
    "print(\"week-->\", wd)\n",
    "# 本周\n",
    "week0 = now.strftime(\"%Y%W\")\n",
    "print(\"week0-->\", week0)\n",
    "\n",
    "week1 = (now - timedelta(days=now.weekday()+7)).strftime(\"%Y%W\")\n",
    "\n",
    "print(\"week1-->\", week1)"
   ]
  },
  {
   "cell_type": "code",
   "execution_count": 13,
   "metadata": {},
   "outputs": [
    {
     "name": "stdout",
     "output_type": "stream",
     "text": [
      "SELECT * FROM issue_track WHERE device_id IN (2,21,19)\n"
     ]
    }
   ],
   "source": [
    "a = [2,21,19]   \n",
    "format_strings = 'SELECT * FROM issue_track WHERE device_id IN (%s)' % ','.join(['%s'] * len(a))\n",
    "sql = format_strings % tuple(a)\n",
    "print(sql)\n",
    "\n"
   ]
  },
  {
   "cell_type": "code",
   "execution_count": 9,
   "metadata": {},
   "outputs": [
    {
     "name": "stdout",
     "output_type": "stream",
     "text": [
      "(2, 21, 19)\n"
     ]
    }
   ],
   "source": [
    "a = [2,21,19]\n",
    "b = tuple(a)\n",
    "print(b)"
   ]
  },
  {
   "cell_type": "code",
   "execution_count": 18,
   "metadata": {},
   "outputs": [
    {
     "name": "stdout",
     "output_type": "stream",
     "text": [
      "and device_id IN (2,21,19)\n"
     ]
    }
   ],
   "source": [
    "a = [2,21,19]   \n",
    "format_strings = 'and device_id IN (%s)' % ','.join(['%s'] * len(a))\n",
    "sql = format_strings % tuple(a)\n",
    "print(sql)\n"
   ]
  },
  {
   "cell_type": "code",
   "execution_count": 23,
   "metadata": {},
   "outputs": [
    {
     "name": "stdout",
     "output_type": "stream",
     "text": [
      "yesterday--> 2020-01-07\n",
      "yesterday--> 2020-01-06\n",
      "yesterday_str--> 2020-01-06\n",
      "today--> 2020-01-07\n",
      "oneday--> 1 day, 0:00:00\n"
     ]
    }
   ],
   "source": [
    "now = datetime.datetime.now()\n",
    "today1 = now.strftime(\"%Y-%m-%d\")\n",
    "print(\"yesterday-->\", today1)\n",
    "\n",
    "yesterday = datetime.date.today() - datetime.timedelta(days=1) \n",
    "yesterday_str = yesterday.strftime(\"%Y-%m-%d\")\n",
    "print(\"yesterday-->\", yesterday)\n",
    "print(\"yesterday_str-->\", yesterday_str)\n",
    "\n",
    "today=datetime.date.today() \n",
    "print(\"today-->\", today)\n",
    "\n",
    "oneday=datetime.timedelta(days=1) \n",
    "print(\"oneday-->\", oneday)"
   ]
  },
  {
   "cell_type": "code",
   "execution_count": null,
   "metadata": {},
   "outputs": [],
   "source": []
  }
 ],
 "metadata": {
  "kernelspec": {
   "display_name": "Python 3",
   "language": "python",
   "name": "python3"
  },
  "language_info": {
   "codemirror_mode": {
    "name": "ipython",
    "version": 3
   },
   "file_extension": ".py",
   "mimetype": "text/x-python",
   "name": "python",
   "nbconvert_exporter": "python",
   "pygments_lexer": "ipython3",
   "version": "3.7.4"
  }
 },
 "nbformat": 4,
 "nbformat_minor": 2
}
