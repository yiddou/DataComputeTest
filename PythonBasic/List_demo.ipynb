{
 "cells": [
  {
   "cell_type": "code",
   "execution_count": 1,
   "metadata": {},
   "outputs": [
    {
     "name": "stdout",
     "output_type": "stream",
     "text": [
      "[0, 0, 0, 0, 0]\n"
     ]
    }
   ],
   "source": [
    "#初始化化 list\n",
    "list1 = [0]*5\n",
    "print(list1)"
   ]
  },
  {
   "cell_type": "code",
   "execution_count": 5,
   "metadata": {},
   "outputs": [
    {
     "name": "stdout",
     "output_type": "stream",
     "text": [
      "10\n",
      "time.struct_time(tm_year=2019, tm_mon=11, tm_mday=1, tm_hour=0, tm_min=0, tm_sec=0, tm_wday=4, tm_yday=305, tm_isdst=-1)\n",
      "10\n"
     ]
    }
   ],
   "source": [
    "import time, datetime\n",
    "\n",
    "date_str = '2017-10-19'\n",
    " \n",
    "fmt = '%Y-%m-%d'\n",
    " \n",
    "time_tuple = time.strptime(date_str, fmt)\n",
    " \n",
    "year, month, day = time_tuple[:3]\n",
    "print(month)\n",
    "\n",
    "time_tuple2 = time.strptime('2019-11', '%Y-%m')\n",
    "print(time_tuple2)\n",
    "print(time_tuple2[1]-1)"
   ]
  },
  {
   "cell_type": "code",
   "execution_count": null,
   "metadata": {},
   "outputs": [],
   "source": []
  }
 ],
 "metadata": {
  "kernelspec": {
   "display_name": "Python 3",
   "language": "python",
   "name": "python3"
  },
  "language_info": {
   "codemirror_mode": {
    "name": "ipython",
    "version": 3
   },
   "file_extension": ".py",
   "mimetype": "text/x-python",
   "name": "python",
   "nbconvert_exporter": "python",
   "pygments_lexer": "ipython3",
   "version": "3.7.4"
  }
 },
 "nbformat": 4,
 "nbformat_minor": 2
}
